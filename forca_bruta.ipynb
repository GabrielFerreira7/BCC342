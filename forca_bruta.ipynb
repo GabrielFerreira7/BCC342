{
  "nbformat": 4,
  "nbformat_minor": 0,
  "metadata": {
    "colab": {
      "name": "Força_bruta.ipynb",
      "provenance": [],
      "collapsed_sections": []
    },
    "kernelspec": {
      "name": "python3",
      "display_name": "Python 3"
    },
    "language_info": {
      "name": "python"
    }
  },
  "cells": [
    {
      "cell_type": "code",
      "metadata": {
        "id": "yhD-cPUNDaBR"
      },
      "source": [
        "import numpy as np"
      ],
      "execution_count": 1,
      "outputs": []
    },
    {
      "cell_type": "code",
      "metadata": {
        "id": "d2ObmClaX5NV"
      },
      "source": [
        "def generate_and_test(bounds): # bouns é o limite de cada variavel \n",
        "    \n",
        "    nvars = len(bounds)\n",
        "    #best_sol = []\n",
        "    #best_val = 0\n",
        "\n",
        "    bounds = [np.arange(b[0],b[1]+1) for b in bounds] # cria todos os valores possiveis que a variavel pode assumir\n",
        "    frontier = [[x] for x in bounds[0]]\n",
        "\n",
        "    while frontier:\n",
        "        solution = frontier.pop(0)\n",
        "\n",
        "        if len(solution) == nvars: # solução completa\n",
        "            print(solution)\n",
        "            #s_val = fobj(solution)\n",
        "            #if best_sol:\n",
        "                #if s_val < best_val:\n",
        "                    #best_val = s_val\n",
        "                    #best_sol = solution\n",
        "            #else:\n",
        "                #best_val = s_val\n",
        "                #best_sol = solution\n",
        "        else: # solucao incompleta\n",
        "            for val in bounds[len(solution)][::-1]:\n",
        "                frontier = [solution + [val]] + frontier\n",
        "\n",
        "    #return {'best_sol': best_sol,\n",
        "           # 'best_val': best_val}\n"
      ],
      "execution_count": 2,
      "outputs": []
    },
    {
      "cell_type": "code",
      "metadata": {
        "id": "1OZGb-SbX8cr"
      },
      "source": [
        "def permute_and_test(n):\n",
        "    \n",
        "    best_sol = []\n",
        "    best_val = 0\n",
        "\n",
        "    elements = set([i for i in range(n)]) \n",
        "    frontier = [[x] for x in range(n)]\n",
        "\n",
        "    while frontier:\n",
        "        solution = frontier.pop(0)\n",
        "\n",
        "        if len(solution) == n:\n",
        "            print(solution)\n",
        "            #s_val = fobj(solution)\n",
        "            #if best_sol:\n",
        "                #if s_val < best_val:\n",
        "                    #best_val = s_val\n",
        "                    #best_sol = solution\n",
        "            #else:\n",
        "                #best_val = s_val\n",
        "                #best_sol = solution\n",
        "        else:\n",
        "            new_solutions = []\n",
        "            for val in elements - set(solution):\n",
        "                new_solutions = new_solutions + [solution + [val]] \n",
        "\n",
        "            frontier = new_solutions + frontier\n",
        "\n",
        "\n",
        "    #return {'best_sol': best_sol,\n",
        "           # 'best_val': best_val}\n"
      ],
      "execution_count": 3,
      "outputs": []
    },
    {
      "cell_type": "code",
      "metadata": {
        "colab": {
          "base_uri": "https://localhost:8080/"
        },
        "id": "l2lMjaEeiIz8",
        "outputId": "0f23a888-1d01-4900-bf1e-e4c81d596332"
      },
      "source": [
        "# algoritmo A\n",
        "n = 3\n",
        "bounds = [[0, 1] for i in range(n)]\n",
        "generate_and_test(bounds)"
      ],
      "execution_count": 4,
      "outputs": [
        {
          "output_type": "stream",
          "text": [
            "[0, 0, 0]\n",
            "[0, 0, 1]\n",
            "[0, 1, 0]\n",
            "[0, 1, 1]\n",
            "[1, 0, 0]\n",
            "[1, 0, 1]\n",
            "[1, 1, 0]\n",
            "[1, 1, 1]\n"
          ],
          "name": "stdout"
        }
      ]
    },
    {
      "cell_type": "code",
      "metadata": {
        "colab": {
          "base_uri": "https://localhost:8080/"
        },
        "id": "f7dXIH6ij5kN",
        "outputId": "833db21f-8748-4ae7-a0ef-bf1159348a8f"
      },
      "source": [
        "#Algoritmo B\n",
        "n= 2\n",
        "m = 3\n",
        "bounds = [[0, m] for i in range(n)]\n",
        "generate_and_test(bounds)"
      ],
      "execution_count": 5,
      "outputs": [
        {
          "output_type": "stream",
          "text": [
            "[0, 0]\n",
            "[0, 1]\n",
            "[0, 2]\n",
            "[0, 3]\n",
            "[1, 0]\n",
            "[1, 1]\n",
            "[1, 2]\n",
            "[1, 3]\n",
            "[2, 0]\n",
            "[2, 1]\n",
            "[2, 2]\n",
            "[2, 3]\n",
            "[3, 0]\n",
            "[3, 1]\n",
            "[3, 2]\n",
            "[3, 3]\n"
          ],
          "name": "stdout"
        }
      ]
    },
    {
      "cell_type": "code",
      "metadata": {
        "colab": {
          "base_uri": "https://localhost:8080/"
        },
        "id": "GN6ZNULHYAL5",
        "outputId": "cd075426-50cc-4b99-da93-7d4f828fa8d7"
      },
      "source": [
        "#problema C\n",
        "n = 4\n",
        "permute_and_test(n)\n"
      ],
      "execution_count": 6,
      "outputs": [
        {
          "output_type": "stream",
          "text": [
            "[0, 1, 2, 3]\n",
            "[0, 1, 3, 2]\n",
            "[0, 2, 1, 3]\n",
            "[0, 2, 3, 1]\n",
            "[0, 3, 1, 2]\n",
            "[0, 3, 2, 1]\n",
            "[1, 0, 2, 3]\n",
            "[1, 0, 3, 2]\n",
            "[1, 2, 0, 3]\n",
            "[1, 2, 3, 0]\n",
            "[1, 3, 0, 2]\n",
            "[1, 3, 2, 0]\n",
            "[2, 0, 1, 3]\n",
            "[2, 0, 3, 1]\n",
            "[2, 1, 0, 3]\n",
            "[2, 1, 3, 0]\n",
            "[2, 3, 0, 1]\n",
            "[2, 3, 1, 0]\n",
            "[3, 0, 1, 2]\n",
            "[3, 0, 2, 1]\n",
            "[3, 1, 0, 2]\n",
            "[3, 1, 2, 0]\n",
            "[3, 2, 0, 1]\n",
            "[3, 2, 1, 0]\n"
          ],
          "name": "stdout"
        }
      ]
    }
  ]
}